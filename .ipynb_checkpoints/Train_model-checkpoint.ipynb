{
 "cells": [
  {
   "cell_type": "code",
   "execution_count": null,
   "id": "fe4bf4eb",
   "metadata": {},
   "outputs": [],
   "source": [
    "from keras.models import Sequential\n",
    "from keras.layers import Dense\n",
    "import pandas as pd\n",
    "import numpy as np\n",
    "from pandas import DataFrame\n",
    "from keras.utils import np_utils\n",
    "from keras.utils.np_utils import to_categorical\n",
    "from sklearn.preprocessing import LabelEncoder\n",
    "from sklearn.metrics import confusion_matrix\n",
    "from sklearn.model_selection import train_test_split\n",
    "from sklearn.metrics import classification_report,confusion_matrix\n",
    "from keras.callbacks import History \n",
    "history = History()"
   ]
  },
  {
   "cell_type": "code",
   "execution_count": null,
   "id": "877e2420",
   "metadata": {},
   "outputs": [],
   "source": [
    "name_paper = input('input name :')"
   ]
  },
  {
   "cell_type": "code",
   "execution_count": null,
   "id": "acb63759",
   "metadata": {},
   "outputs": [],
   "source": [
    "address = '%s.csv' %(name_paper)\n",
    "dataset = pd.read_csv(address)"
   ]
  },
  {
   "cell_type": "code",
   "execution_count": null,
   "id": "f7baa68c",
   "metadata": {},
   "outputs": [],
   "source": [
    "X = dataset.drop(['OD'], axis = 1)\n",
    "y = dataset['OD']"
   ]
  },
  {
   "cell_type": "code",
   "execution_count": null,
   "id": "8841dae8",
   "metadata": {},
   "outputs": [],
   "source": [
    "X_train,X_test,y_train,y_test = train_test_split(X,y,test_size=0.2,random_state=2)\n",
    "\n",
    "X_train.to_csv('test_train/%sX_train.csv' %(name_paper))\n",
    "X_test.to_csv('test_train/%sX_test.csv' %(name_paper))\n",
    "y_train.to_csv('test_train/%sy_train.csv' %(name_paper))\n",
    "y_test.to_csv('test_train/%sy_test.csv' %(name_paper))"
   ]
  },
  {
   "cell_type": "code",
   "execution_count": null,
   "id": "ec398788",
   "metadata": {},
   "outputs": [],
   "source": [
    "def num_neuron(n1, n2, n3, act):\n",
    "    model.add(Dense(n1,input_shape=(4,),activation='relu'))\n",
    "    model.add(Dense(n2,activation=act))\n",
    "    model.add(Dense(n3,activation=act))\n",
    "    model.add(Dense(1,activation='linear'))\n",
    "\n",
    "def find_error(ypred, ytest):\n",
    "    mse = 0\n",
    "    mae = 0\n",
    "    percenterror = 0\n",
    "    for i in range(0, len((ypred))):\n",
    "        mse += (ypred[i] - ytest[i])**2\n",
    "        mae += abs(ypred[i] - ytest[i])\n",
    "        percenterror += (abs(ypred[i] - ytest[i]))*100/ytest[i]\n",
    "    mse = mse/len(ypred)\n",
    "    mae = mae/len(ypred)\n",
    "    rmse = np.sqrt(mse)\n",
    "    percenterror = percenterror/len(ypred)\n",
    "    errorr = [mae, mse, rmse, percenterror]\n",
    "    return errorr"
   ]
  },
  {
   "cell_type": "code",
   "execution_count": null,
   "id": "c13a1a78",
   "metadata": {},
   "outputs": [],
   "source": [
    "\n",
    "# In[12]:\n",
    "\n",
    "\n",
    "nlable = []\n",
    "errorvalue = []\n",
    "#func = ['relu', 'sigmoid', 'tanh']\n",
    "func = ['relu']\n",
    "for act in func:\n",
    "    for i in range(4, 31):\n",
    "        for j in range(4, 31):\n",
    "            for k in range(4, 31):\n",
    "                model = Sequential()\n",
    "                num_neuron(i, j, k, act)\n",
    "                model.compile(loss='mse',optimizer='adam',metrics=['mape','mse'])\n",
    "                hist = model.fit(X_train,y_train,validation_data=(X_test, y_test),epochs=500)\n",
    "                train_history = DataFrame(hist.history)\n",
    "                \n",
    "                y_pred = model.predict(X_test)\n",
    "                \n",
    "                # change y_pred and y_test to list\n",
    "                y_testlistt=y_test.values.tolist()\n",
    "                y_predlistt = []\n",
    "                for l in range(0,len(y_pred)):\n",
    "                    y_predlistt.append(y_pred[l][0])\n",
    "            \n",
    "                # collect error\n",
    "                errorr = find_error(y_predlistt, y_testlistt)\n",
    "                errorvalue.append(errorr)\n",
    "                \n",
    "                # save the model\n",
    "                model_name = '%s_%d_%d_%d' %(act, i, j, k) \n",
    "                nlable.append(model_name)\n",
    "            \n",
    "                address_save = 'last_last_test_%s/%s_%s.h5' %(name_paper, name_paper, model_name)\n",
    "                model.save(address_save)\n",
    "                \n",
    "                #save training history\n",
    "                address_train = 'last_last_test_%s/hist/%s_hist_%s.csv' %(name_paper, name_paper, model_name)\n",
    "                train_history.to_csv(address_train)\n",
    "                #save error\n",
    "                error_table = DataFrame(errorvalue,columns=['mae', 'mse', 'rmse', 'Perror'])\n",
    "                error_table['neuron'] = nlable\n",
    "\n",
    "                error_table = error_table[['neuron', 'mae', 'mse', 'rmse', 'Perror']]\n",
    "\n",
    "                error_tablee = error_table.sort_values(by=['mse'])\n",
    "\n",
    "                address = 'error_table/last_last_test_%s_error.csv' %(name_paper)\n",
    "                error_tablee.to_csv(address)"
   ]
  },
  {
   "cell_type": "code",
   "execution_count": null,
   "id": "a450d77e",
   "metadata": {},
   "outputs": [],
   "source": [
    "#save error table\n",
    "error_table = DataFrame(errorvalue,columns=['mae', 'mse', 'rmse', 'Perror'])\n",
    "error_table['neuron'] = nlable\n",
    "\n",
    "error_table = error_table[['neuron', 'mae', 'mse', 'rmse', 'Perror']]\n",
    "\n",
    "error_tablee = error_table.sort_values(by=['mse'])\n",
    "\n",
    "address = 'error_table/last_test_%s_error.csv' %(name_paper)\n",
    "error_tablee.to_csv(address)"
   ]
  }
 ],
 "metadata": {
  "kernelspec": {
   "display_name": "Python 3",
   "language": "python",
   "name": "python3"
  },
  "language_info": {
   "codemirror_mode": {
    "name": "ipython",
    "version": 3
   },
   "file_extension": ".py",
   "mimetype": "text/x-python",
   "name": "python",
   "nbconvert_exporter": "python",
   "pygments_lexer": "ipython3",
   "version": "3.7.10"
  }
 },
 "nbformat": 4,
 "nbformat_minor": 5
}

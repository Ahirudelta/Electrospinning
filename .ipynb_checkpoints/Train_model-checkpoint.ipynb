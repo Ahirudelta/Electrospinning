{
 "cells": [
  {
   "cell_type": "code",
   "execution_count": null,
   "id": "fe4bf4eb",
   "metadata": {},
   "outputs": [],
   "source": [
    "from keras.models import Sequential\n",
    "from keras.layers import Dense\n",
    "import pandas as pd\n",
    "import numpy as np\n",
    "from pandas import DataFrame\n",
    "from keras.utils import np_utils\n",
    "from keras.utils.np_utils import to_categorical\n",
    "from sklearn.preprocessing import LabelEncoder\n",
    "from sklearn.metrics import confusion_matrix\n",
    "from sklearn.model_selection import train_test_split\n",
    "from sklearn.metrics import classification_report,confusion_matrix\n",
    "from keras.callbacks import History \n",
    "history = History()"
   ]
  },
  {
   "cell_type": "code",
   "execution_count": null,
   "id": "877e2420",
   "metadata": {},
   "outputs": [],
   "source": [
    "# input the name of dataset\n",
    "# Example: Kefiran\n",
    "name_input = input('input name :')"
   ]
  },
  {
   "cell_type": "code",
   "execution_count": null,
   "id": "acb63759",
   "metadata": {},
   "outputs": [],
   "source": [
    "# import the nomalized of the dataset\n",
    "address = 'norm_file/norm_%s.csv' %(name_input)\n",
    "dataset = pd.read_csv(address)"
   ]
  },
  {
   "cell_type": "code",
   "execution_count": null,
   "id": "f7baa68c",
   "metadata": {},
   "outputs": [],
   "source": [
    "# X is the features of the ANN model\n",
    "# Y is the target of the ANN model\n",
    "X = dataset.drop(['OD'], axis = 1)\n",
    "y = dataset['OD']"
   ]
  },
  {
   "cell_type": "code",
   "execution_count": null,
   "id": "8841dae8",
   "metadata": {},
   "outputs": [],
   "source": [
    "# Split the dataset to training and testing data\n",
    "X_train,X_test,y_train,y_test = train_test_split(X,y,test_size=0.2,random_state=2)\n",
    "\n",
    "# Save the training and tesing dataset in the test_train folder\n",
    "# Must create the folder before start running the program\n",
    "X_train.to_csv('test_train/%s_X_train.csv' %(name_input))\n",
    "X_test.to_csv('test_train/%s_X_test.csv' %(name_input))\n",
    "y_train.to_csv('test_train/%s_y_train.csv' %(name_input))\n",
    "y_test.to_csv('test_train/%s_y_test.csv' %(name_input))"
   ]
  },
  {
   "cell_type": "code",
   "execution_count": null,
   "id": "ec398788",
   "metadata": {},
   "outputs": [],
   "source": [
    "# The function for difind the number of neurons per each hiddinlayer\n",
    "# And defind the activation function\n",
    "def num_neuron(n1, n2, n3, act):\n",
    "    model.add(Dense(n1,input_shape=(4,), activation=act))\n",
    "    model.add(Dense(n2,activation=act))\n",
    "    model.add(Dense(n3,activation=act))\n",
    "    model.add(Dense(1,activation='linear'))\n",
    "\n",
    "# The function for calculate the error value of the model\n",
    "# Including MSE, MAE, and PMAE\n",
    "def cal_error(ypred, ytest):\n",
    "    mse = 0\n",
    "    mae = 0\n",
    "    percenterror = 0\n",
    "    for i in range(0, len((ypred))):\n",
    "        mse += (ypred[i] - ytest[i])**2\n",
    "        mae += abs(ypred[i] - ytest[i])\n",
    "        percenterror += (abs(ypred[i] - ytest[i]))*100/ytest[i]\n",
    "    mse = mse/len(ypred)\n",
    "    mae = mae/len(ypred)\n",
    "    rmse = np.sqrt(mse)\n",
    "    percenterror = percenterror/len(ypred)\n",
    "    error_list = [mae, mse, rmse, percenterror]\n",
    "    return error_list"
   ]
  },
  {
   "cell_type": "code",
   "execution_count": null,
   "id": "c13a1a78",
   "metadata": {},
   "outputs": [],
   "source": [
    "# This is the brute force programming to create the ANN model with 3 hidden layer.\n",
    "# By each layer contain the neurons between 4 and 30 per each layer.\n",
    "# With the activation function including relu, sigmoid, and tanh.\n",
    "\n",
    "nlable = []        # The list for collect the name of model.\n",
    "error_list = []   # The list for collect the error value of the model.\n",
    "func = ['relu', 'sigmoid', 'tanh'] #List of the activation fucntion wich used to train the model.\n",
    "for act in func:\n",
    "    for i in range(4, 31):\n",
    "        for j in range(4, 31):\n",
    "            for k in range(4, 31):\n",
    "                \n",
    "                model = Sequential()\n",
    "                num_neuron(i, j, k, act) # Defind the structure of the model\n",
    "                model.compile(loss='mse', optimizer='adam') #start the training process\n",
    "                hist = model.fit(X_train,y_train,validation_data=(X_test, y_test),epochs=500) \n",
    "                train_history = DataFrame(hist.history) # Collect the loss of training and validation dataset per epoch\n",
    "                \n",
    "                # Predict the testing dataset by using the trained model\n",
    "                y_pred = model.predict(X_test) \n",
    "                \n",
    "                # change y_pred and y_test to list because it easier to change it to dataframe in the future \n",
    "                y_testlistt=y_test.values.tolist()\n",
    "                y_predlistt = []\n",
    "                for l in range(0,len(y_pred)):\n",
    "                    y_predlistt.append(y_pred[l][0])\n",
    "            \n",
    "                # Calculate the error between the prediction value and the testing value and collect it in the list\n",
    "                error_list.append(cal_error(y_predlistt, y_testlistt))\n",
    "                \n",
    "                # named the model by the number of neuron and activation function\n",
    "                # And collect name of the model for label the error value of this model in dataframe\n",
    "                model_name = '%s_%d_%d_%d' %(act, i, j, k) \n",
    "                nlable.append(model_name)\n",
    "                \n",
    "                # The model save in the folder wich named by the input material\n",
    "                address_save = 'model_%s/%s_%s.h5' %(name_input, name_input, model_name)\n",
    "                model.save(address_save)\n",
    "                \n",
    "                # Save training and validation loss\n",
    "                # The Folder of the loss is in the model folder by the name of folder is \"loss\"\n",
    "                address_loss = 'model_%s/loss/%s_loss_%s.csv' %(name_input, name_input, model_name)\n",
    "                train_history.to_csv(address_loss)\n",
    "                \n",
    "                # Save error_data to the folder \"error_table\"\n",
    "                error_table = DataFrame(error_list,columns=['mae', 'mse', 'rmse', 'P_error'])\n",
    "                error_table['neuron'] = nlable\n",
    "                error_table = error_table[['neuron', 'mae', 'mse', 'rmse', 'P_error']]\n",
    "                error_tablee = error_table.sort_values(by=['P_error'])\n",
    "                address = 'error_table/%s_error.csv' %(name_input)\n",
    "                error_tablee.to_csv(address)"
   ]
  },
  {
   "cell_type": "code",
   "execution_count": null,
   "id": "dc01ad62",
   "metadata": {},
   "outputs": [],
   "source": []
  }
 ],
 "metadata": {
  "kernelspec": {
   "display_name": "Python 3",
   "language": "python",
   "name": "python3"
  },
  "language_info": {
   "codemirror_mode": {
    "name": "ipython",
    "version": 3
   },
   "file_extension": ".py",
   "mimetype": "text/x-python",
   "name": "python",
   "nbconvert_exporter": "python",
   "pygments_lexer": "ipython3",
   "version": "3.7.10"
  }
 },
 "nbformat": 4,
 "nbformat_minor": 5
}
